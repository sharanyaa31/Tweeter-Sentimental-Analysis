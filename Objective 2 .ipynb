{
 "cells": [
  {
   "cell_type": "markdown",
   "id": "1e244b43",
   "metadata": {},
   "source": [
    "# Importing all the necessary libraries\n",
    "\n"
   ]
  },
  {
   "cell_type": "code",
   "execution_count": 1,
   "id": "a9f7ebe7",
   "metadata": {},
   "outputs": [
    {
     "name": "stdout",
     "output_type": "stream",
     "text": [
      "Requirement already satisfied: textblob in ./opt/anaconda3/lib/python3.8/site-packages (0.17.1)\n",
      "Requirement already satisfied: nltk>=3.1 in ./opt/anaconda3/lib/python3.8/site-packages (from textblob) (3.6.1)\n",
      "Requirement already satisfied: joblib in ./opt/anaconda3/lib/python3.8/site-packages (from nltk>=3.1->textblob) (1.0.1)\n",
      "Requirement already satisfied: regex in ./opt/anaconda3/lib/python3.8/site-packages (from nltk>=3.1->textblob) (2021.4.4)\n",
      "Requirement already satisfied: click in ./opt/anaconda3/lib/python3.8/site-packages (from nltk>=3.1->textblob) (7.1.2)\n",
      "Requirement already satisfied: tqdm in ./opt/anaconda3/lib/python3.8/site-packages (from nltk>=3.1->textblob) (4.59.0)\n",
      "Note: you may need to restart the kernel to use updated packages.\n"
     ]
    }
   ],
   "source": [
    "pip install -U textblob"
   ]
  },
  {
   "cell_type": "code",
   "execution_count": 52,
   "id": "74230bbb",
   "metadata": {},
   "outputs": [
    {
     "name": "stderr",
     "output_type": "stream",
     "text": [
      "[nltk_data] Downloading package punkt to\n",
      "[nltk_data]     /Users/sharanyakarthikeyan/nltk_data...\n",
      "[nltk_data]   Package punkt is already up-to-date!\n",
      "[nltk_data] Downloading package averaged_perceptron_tagger to\n",
      "[nltk_data]     /Users/sharanyakarthikeyan/nltk_data...\n",
      "[nltk_data]   Package averaged_perceptron_tagger is already up-to-\n",
      "[nltk_data]       date!\n",
      "[nltk_data] Downloading package maxent_ne_chunker to\n",
      "[nltk_data]     /Users/sharanyakarthikeyan/nltk_data...\n",
      "[nltk_data]   Package maxent_ne_chunker is already up-to-date!\n",
      "[nltk_data] Downloading package words to\n",
      "[nltk_data]     /Users/sharanyakarthikeyan/nltk_data...\n",
      "[nltk_data]   Package words is already up-to-date!\n",
      "[nltk_data] Downloading package stopwords to\n",
      "[nltk_data]     /Users/sharanyakarthikeyan/nltk_data...\n",
      "[nltk_data]   Package stopwords is already up-to-date!\n"
     ]
    }
   ],
   "source": [
    "import numpy as np\n",
    "import pandas as pd\n",
    "import matplotlib.pyplot as plt\n",
    "import seaborn as sns\n",
    "import nltk\n",
    "from nltk.corpus import stopwords\n",
    "\n",
    "nltk.download('punkt')\n",
    "nltk.download('averaged_perceptron_tagger')\n",
    "nltk.download('maxent_ne_chunker')\n",
    "nltk.download('words')\n",
    "nltk.download('stopwords')\n",
    "stopword = stopwords.words('english')\n",
    "from nltk.sentiment.vader import SentimentIntensityAnalyzer \n",
    "from nltk.corpus import stopwords\n",
    "import string\n",
    "import json\n",
    "from nltk.sentiment.util import *\n",
    "from textblob import TextBlob"
   ]
  },
  {
   "cell_type": "markdown",
   "id": "0199cf8d",
   "metadata": {},
   "source": [
    "# Import and Read the data\n",
    "\n"
   ]
  },
  {
   "cell_type": "code",
   "execution_count": 53,
   "id": "62e81dd2",
   "metadata": {},
   "outputs": [],
   "source": [
    "with open('/Users/sharanyakarthikeyan/Downloads/tweets.json') as jfile:\n",
    "  json_file = json.load(jfile)"
   ]
  },
  {
   "cell_type": "markdown",
   "id": "099bc1fe",
   "metadata": {},
   "source": [
    "# Convert into Data Frame \n",
    "\n"
   ]
  },
  {
   "cell_type": "code",
   "execution_count": 54,
   "id": "bb5561e8",
   "metadata": {},
   "outputs": [],
   "source": [
    "df=pd.DataFrame(json_file).T\n"
   ]
  },
  {
   "cell_type": "code",
   "execution_count": 55,
   "id": "47f05e02",
   "metadata": {},
   "outputs": [
    {
     "data": {
      "text/html": [
       "<div>\n",
       "<style scoped>\n",
       "    .dataframe tbody tr th:only-of-type {\n",
       "        vertical-align: middle;\n",
       "    }\n",
       "\n",
       "    .dataframe tbody tr th {\n",
       "        vertical-align: top;\n",
       "    }\n",
       "\n",
       "    .dataframe thead th {\n",
       "        text-align: right;\n",
       "    }\n",
       "</style>\n",
       "<table border=\"1\" class=\"dataframe\">\n",
       "  <thead>\n",
       "    <tr style=\"text-align: right;\">\n",
       "      <th></th>\n",
       "      <th>tweet_author</th>\n",
       "      <th>tweet_text</th>\n",
       "    </tr>\n",
       "  </thead>\n",
       "  <tbody>\n",
       "    <tr>\n",
       "      <th>1374140386071961602</th>\n",
       "      <td>Hematopoiesis News</td>\n",
       "      <td>⚕️ Scientists conducted a Phase II study of ac...</td>\n",
       "    </tr>\n",
       "    <tr>\n",
       "      <th>1374032432173842437</th>\n",
       "      <td>Michael Wang, MD</td>\n",
       "      <td>This phase 2 Acalabrutinib-Venetoclax (AV) tri...</td>\n",
       "    </tr>\n",
       "    <tr>\n",
       "      <th>1373902876553048065</th>\n",
       "      <td>1stOncology</td>\n",
       "      <td>#NICE backs #AstraZenecas #Calquence for #CLL ...</td>\n",
       "    </tr>\n",
       "    <tr>\n",
       "      <th>1373656782367813635</th>\n",
       "      <td>Toby Eyre</td>\n",
       "      <td>#acalabrutinib is a valuable option in pts int...</td>\n",
       "    </tr>\n",
       "    <tr>\n",
       "      <th>1372941634334232586</th>\n",
       "      <td>Lymphoma Hub</td>\n",
       "      <td>NICE has recommended the use of acalabrutinib ...</td>\n",
       "    </tr>\n",
       "    <tr>\n",
       "      <th>1372927482278539265</th>\n",
       "      <td>David Ledger</td>\n",
       "      <td>NICE backs AstraZeneca’s Calquence for CLL htt...</td>\n",
       "    </tr>\n",
       "    <tr>\n",
       "      <th>1372911723305394179</th>\n",
       "      <td>N Wales Cancer Forum</td>\n",
       "      <td>This is England for now - these decisions usua...</td>\n",
       "    </tr>\n",
       "    <tr>\n",
       "      <th>1372888121159868423</th>\n",
       "      <td>European Pharmaceutical Review</td>\n",
       "      <td>AstraZeneca’s Calquence (acalabrutinib), a che...</td>\n",
       "    </tr>\n",
       "    <tr>\n",
       "      <th>1372866915081797632</th>\n",
       "      <td>Graham Collins</td>\n",
       "      <td>Superstar @tobyeyre82 responding to the excell...</td>\n",
       "    </tr>\n",
       "    <tr>\n",
       "      <th>1372825553837944834</th>\n",
       "      <td>CLL Ireland</td>\n",
       "      <td>CLL patients all know the drug Ibrutinib and y...</td>\n",
       "    </tr>\n",
       "  </tbody>\n",
       "</table>\n",
       "</div>"
      ],
      "text/plain": [
       "                                       tweet_author  \\\n",
       "1374140386071961602              Hematopoiesis News   \n",
       "1374032432173842437                Michael Wang, MD   \n",
       "1373902876553048065                     1stOncology   \n",
       "1373656782367813635                       Toby Eyre   \n",
       "1372941634334232586                    Lymphoma Hub   \n",
       "1372927482278539265                    David Ledger   \n",
       "1372911723305394179            N Wales Cancer Forum   \n",
       "1372888121159868423  European Pharmaceutical Review   \n",
       "1372866915081797632                  Graham Collins   \n",
       "1372825553837944834                     CLL Ireland   \n",
       "\n",
       "                                                            tweet_text  \n",
       "1374140386071961602  ⚕️ Scientists conducted a Phase II study of ac...  \n",
       "1374032432173842437  This phase 2 Acalabrutinib-Venetoclax (AV) tri...  \n",
       "1373902876553048065  #NICE backs #AstraZenecas #Calquence for #CLL ...  \n",
       "1373656782367813635  #acalabrutinib is a valuable option in pts int...  \n",
       "1372941634334232586  NICE has recommended the use of acalabrutinib ...  \n",
       "1372927482278539265  NICE backs AstraZeneca’s Calquence for CLL htt...  \n",
       "1372911723305394179  This is England for now - these decisions usua...  \n",
       "1372888121159868423  AstraZeneca’s Calquence (acalabrutinib), a che...  \n",
       "1372866915081797632  Superstar @tobyeyre82 responding to the excell...  \n",
       "1372825553837944834  CLL patients all know the drug Ibrutinib and y...  "
      ]
     },
     "execution_count": 55,
     "metadata": {},
     "output_type": "execute_result"
    }
   ],
   "source": [
    "df.head(10)\n"
   ]
  },
  {
   "cell_type": "markdown",
   "id": "2bf5d1df",
   "metadata": {},
   "source": [
    "# checking for null values and unique writters"
   ]
  },
  {
   "cell_type": "markdown",
   "id": "1caae587",
   "metadata": {},
   "source": [
    "print('total no of null valus in the data:\\n',df.isnull().sum())\n",
    "print('total no tweet author:',df.tweet_author.nunique())"
   ]
  },
  {
   "cell_type": "code",
   "execution_count": 66,
   "id": "bfb78a91",
   "metadata": {},
   "outputs": [],
   "source": [
    "def clean_data(df):\n",
    "    df = df.lower()\n",
    "    df = re.sub(r'[^(a-zA-Z)\\s]','',df)\n",
    "    #remove urls\n",
    "    df = re.sub(r'http\\S+', \" \", df)\n",
    "    #remove mentions\n",
    "    df = re.sub(r'@\\w+',' ',df)\n",
    "    #remove hashtags\n",
    "    df= re.sub(r'#\\w+', ' ',df)\n",
    "    #remove digits\n",
    "    df = re.sub(r'\\d+()', ' ', df)\n",
    "    #remove html tags and umber\n",
    "    df = re.sub('r<.*?>',' ', df)\n",
    "    #remove stopwords\n",
    "    df = df.split()\n",
    "    df = \" \".join([word for word in df if not word in stopword])\n",
    "    return df\n",
    "df['tweet_text']=df['tweet_text'].apply(lambda x:clean_data(x))\n",
    "def remove_punct(text):\n",
    "    text  = \"\".join([char for char in text if char not in string.punctuation])\n",
    "    text = re.sub('[0-9]+', '', text)\n",
    "    return text\n",
    "\n",
    "df['tweet_text']= df['tweet_text'].apply(lambda x: remove_punct(x))\n",
    "#Tokenization of the text data\n",
    "def tokenization(text):\n",
    "    text = re.split('\\W+', text)\n",
    "    return text\n",
    "df['tweet_text'] = df['tweet_text'].apply(lambda x: tokenization(x.lower()))\n"
   ]
  },
  {
   "cell_type": "markdown",
   "id": "48122617",
   "metadata": {},
   "source": [
    "# Stanford NLP NER\n",
    "\n"
   ]
  },
  {
   "cell_type": "code",
   "execution_count": 89,
   "id": "2414a844",
   "metadata": {},
   "outputs": [
    {
     "name": "stdout",
     "output_type": "stream",
     "text": [
      "--2022-11-16 10:03:02--  https://nlp.stanford.edu/software/stanford-ner-2018-10-16.zip\n",
      "Resolving nlp.stanford.edu (nlp.stanford.edu)... 171.64.67.140\n",
      "Connecting to nlp.stanford.edu (nlp.stanford.edu)|171.64.67.140|:443... connected.\n",
      "HTTP request sent, awaiting response... 302 FOUND\n",
      "Location: https://downloads.cs.stanford.edu/nlp/software/stanford-ner-2018-10-16.zip [following]\n",
      "--2022-11-16 10:03:03--  https://downloads.cs.stanford.edu/nlp/software/stanford-ner-2018-10-16.zip\n",
      "Resolving downloads.cs.stanford.edu (downloads.cs.stanford.edu)... 171.64.64.22\n",
      "Connecting to downloads.cs.stanford.edu (downloads.cs.stanford.edu)|171.64.64.22|:443... connected.\n",
      "HTTP request sent, awaiting response... 200 OK\n",
      "Length: 180358328 (172M) [application/zip]\n",
      "Saving to: ‘stanford-ner-2018-10-16.zip’\n",
      "\n",
      "stanford-ner-2018-1 100%[===================>] 172.00M  1.62MB/s    in 10m 53s \n",
      "\n",
      "2022-11-16 10:13:57 (270 KB/s) - ‘stanford-ner-2018-10-16.zip’ saved [180358328/180358328]\n",
      "\n",
      "Archive:  stanford-ner-2018-10-16.zip\n",
      "   creating: stanford-ner-2018-10-16/\n",
      "  inflating: stanford-ner-2018-10-16/README.txt  \n",
      "  inflating: stanford-ner-2018-10-16/ner-gui.bat  \n",
      "  inflating: stanford-ner-2018-10-16/build.xml  \n",
      "  inflating: stanford-ner-2018-10-16/stanford-ner.jar  \n",
      "  inflating: stanford-ner-2018-10-16/sample-conll-file.txt  \n",
      "  inflating: stanford-ner-2018-10-16/sample.ner.txt  \n",
      "  inflating: stanford-ner-2018-10-16/stanford-ner-3.9.2-sources.jar  \n",
      "   creating: stanford-ner-2018-10-16/lib/\n",
      "  inflating: stanford-ner-2018-10-16/lib/joda-time.jar  \n",
      "  inflating: stanford-ner-2018-10-16/lib/stanford-ner-resources.jar  \n",
      "  inflating: stanford-ner-2018-10-16/lib/jollyday-0.4.9.jar  \n",
      "  inflating: stanford-ner-2018-10-16/ner-gui.command  \n",
      "  inflating: stanford-ner-2018-10-16/ner.sh  \n",
      "  inflating: stanford-ner-2018-10-16/stanford-ner-3.9.2.jar  \n",
      "  inflating: stanford-ner-2018-10-16/NERDemo.java  \n",
      "  inflating: stanford-ner-2018-10-16/stanford-ner-3.9.2-javadoc.jar  \n",
      "  inflating: stanford-ner-2018-10-16/ner.bat  \n",
      "   creating: stanford-ner-2018-10-16/classifiers/\n",
      "  inflating: stanford-ner-2018-10-16/classifiers/english.conll.4class.distsim.prop  \n",
      "  inflating: stanford-ner-2018-10-16/classifiers/example.serialized.ncc.ncc.ser.gz  \n",
      "  inflating: stanford-ner-2018-10-16/classifiers/english.muc.7class.distsim.crf.ser.gz  \n",
      "  inflating: stanford-ner-2018-10-16/classifiers/english.conll.4class.distsim.crf.ser.gz  \n",
      "  inflating: stanford-ner-2018-10-16/classifiers/english.muc.7class.distsim.prop  \n",
      "  inflating: stanford-ner-2018-10-16/classifiers/english.all.3class.distsim.prop  \n",
      "  inflating: stanford-ner-2018-10-16/classifiers/example.serialized.ncc.prop  \n",
      "  inflating: stanford-ner-2018-10-16/classifiers/english.all.3class.distsim.crf.ser.gz  \n",
      "  inflating: stanford-ner-2018-10-16/sample.txt  \n",
      "  inflating: stanford-ner-2018-10-16/sample-w-time.txt  \n",
      "  inflating: stanford-ner-2018-10-16/ner-gui.sh  \n",
      "  inflating: stanford-ner-2018-10-16/LICENSE.txt  \n"
     ]
    },
    {
     "name": "stderr",
     "output_type": "stream",
     "text": [
      "[nltk_data] Downloading package punkt to\n",
      "[nltk_data]     /Users/sharanyakarthikeyan/nltk_data...\n",
      "[nltk_data]   Package punkt is already up-to-date!\n"
     ]
    },
    {
     "data": {
      "text/plain": [
       "True"
      ]
     },
     "execution_count": 89,
     "metadata": {},
     "output_type": "execute_result"
    }
   ],
   "source": [
    "from nltk.tag.stanford import StanfordNERTagger\n",
    "!wget 'https://nlp.stanford.edu/software/stanford-ner-2018-10-16.zip' -O stanford-ner-2018-10-16.zip\n",
    "!unzip stanford-ner-2018-10-16.zip\n",
    "\n",
    "nltk.download('punkt')\n",
    "\n"
   ]
  },
  {
   "cell_type": "code",
   "execution_count": 93,
   "id": "8243c5c3",
   "metadata": {},
   "outputs": [],
   "source": [
    "st = StanfordNERTagger('stanford-ner-2018-10-16/classifiers/english.all.3class.distsim.crf.ser.gz',\n",
    "                       'stanford-ner-2018-10-16/stanford-ner.jar',\n",
    "                       encoding='utf-8')"
   ]
  },
  {
   "cell_type": "markdown",
   "id": "6134a59d",
   "metadata": {},
   "source": [
    "# objective 2\n",
    "Find out the sentiment/polarity of each author towards each of the entities\n",
    "\n"
   ]
  },
  {
   "cell_type": "code",
   "execution_count": 113,
   "id": "1558a054",
   "metadata": {},
   "outputs": [],
   "source": [
    "df['tweet_text'] = df['tweet_text'].astype('str')\n",
    "def get_polarity(text):\n",
    "  return TextBlob(text).sentiment.polarity\n",
    "df['Polarity'] = df['tweet_text'].apply(get_polarity)"
   ]
  },
  {
   "cell_type": "code",
   "execution_count": 117,
   "id": "d8873749",
   "metadata": {},
   "outputs": [],
   "source": [
    "df.to_csv('objective2.csv')\n"
   ]
  },
  {
   "cell_type": "code",
   "execution_count": 115,
   "id": "04e9f5ba",
   "metadata": {},
   "outputs": [
    {
     "data": {
      "text/html": [
       "<div>\n",
       "<style scoped>\n",
       "    .dataframe tbody tr th:only-of-type {\n",
       "        vertical-align: middle;\n",
       "    }\n",
       "\n",
       "    .dataframe tbody tr th {\n",
       "        vertical-align: top;\n",
       "    }\n",
       "\n",
       "    .dataframe thead th {\n",
       "        text-align: right;\n",
       "    }\n",
       "</style>\n",
       "<table border=\"1\" class=\"dataframe\">\n",
       "  <thead>\n",
       "    <tr style=\"text-align: right;\">\n",
       "      <th></th>\n",
       "      <th>tweet_author</th>\n",
       "      <th>tweet_text</th>\n",
       "      <th>Polarity</th>\n",
       "      <th>overall_Polarity</th>\n",
       "    </tr>\n",
       "  </thead>\n",
       "  <tbody>\n",
       "    <tr>\n",
       "      <th>1374140386071961602</th>\n",
       "      <td>Hematopoiesis News</td>\n",
       "      <td>['scientists', 'conducted', 'phase', 'ii', 'st...</td>\n",
       "      <td>0.000000</td>\n",
       "      <td>0.000000</td>\n",
       "    </tr>\n",
       "    <tr>\n",
       "      <th>1374032432173842437</th>\n",
       "      <td>Michael Wang, MD</td>\n",
       "      <td>['phase', 'acalabrutinibvenetoclax', 'av', 'tr...</td>\n",
       "      <td>0.000000</td>\n",
       "      <td>0.000000</td>\n",
       "    </tr>\n",
       "    <tr>\n",
       "      <th>1373902876553048065</th>\n",
       "      <td>1stOncology</td>\n",
       "      <td>['nice', 'backs', 'astrazenecas', 'calquence',...</td>\n",
       "      <td>0.600000</td>\n",
       "      <td>0.600000</td>\n",
       "    </tr>\n",
       "    <tr>\n",
       "      <th>1373656782367813635</th>\n",
       "      <td>Toby Eyre</td>\n",
       "      <td>['acalabrutinib', 'valuable', 'option', 'pts',...</td>\n",
       "      <td>0.100000</td>\n",
       "      <td>0.100000</td>\n",
       "    </tr>\n",
       "    <tr>\n",
       "      <th>1372941634334232586</th>\n",
       "      <td>Lymphoma Hub</td>\n",
       "      <td>['nice', 'recommended', 'use', 'acalabrutinib'...</td>\n",
       "      <td>0.600000</td>\n",
       "      <td>0.600000</td>\n",
       "    </tr>\n",
       "    <tr>\n",
       "      <th>1372927482278539265</th>\n",
       "      <td>David Ledger</td>\n",
       "      <td>['nice', 'backs', 'astrazenecas', 'calquence',...</td>\n",
       "      <td>0.600000</td>\n",
       "      <td>0.600000</td>\n",
       "    </tr>\n",
       "    <tr>\n",
       "      <th>1372911723305394179</th>\n",
       "      <td>N Wales Cancer Forum</td>\n",
       "      <td>['england', 'decisions', 'usually', 'come', 'w...</td>\n",
       "      <td>-0.250000</td>\n",
       "      <td>-0.250000</td>\n",
       "    </tr>\n",
       "    <tr>\n",
       "      <th>1372888121159868423</th>\n",
       "      <td>European Pharmaceutical Review</td>\n",
       "      <td>['astrazenecas', 'calquence', 'acalabrutinib',...</td>\n",
       "      <td>0.000000</td>\n",
       "      <td>0.000000</td>\n",
       "    </tr>\n",
       "    <tr>\n",
       "      <th>1372866915081797632</th>\n",
       "      <td>Graham Collins</td>\n",
       "      <td>['superstar', 'tobyeyre', 'responding', 'excel...</td>\n",
       "      <td>0.800000</td>\n",
       "      <td>0.800000</td>\n",
       "    </tr>\n",
       "    <tr>\n",
       "      <th>1372825553837944834</th>\n",
       "      <td>CLL Ireland</td>\n",
       "      <td>['cll', 'patients', 'know', 'drug', 'ibrutinib...</td>\n",
       "      <td>0.045455</td>\n",
       "      <td>0.045455</td>\n",
       "    </tr>\n",
       "  </tbody>\n",
       "</table>\n",
       "</div>"
      ],
      "text/plain": [
       "                                       tweet_author  \\\n",
       "1374140386071961602              Hematopoiesis News   \n",
       "1374032432173842437                Michael Wang, MD   \n",
       "1373902876553048065                     1stOncology   \n",
       "1373656782367813635                       Toby Eyre   \n",
       "1372941634334232586                    Lymphoma Hub   \n",
       "1372927482278539265                    David Ledger   \n",
       "1372911723305394179            N Wales Cancer Forum   \n",
       "1372888121159868423  European Pharmaceutical Review   \n",
       "1372866915081797632                  Graham Collins   \n",
       "1372825553837944834                     CLL Ireland   \n",
       "\n",
       "                                                            tweet_text  \\\n",
       "1374140386071961602  ['scientists', 'conducted', 'phase', 'ii', 'st...   \n",
       "1374032432173842437  ['phase', 'acalabrutinibvenetoclax', 'av', 'tr...   \n",
       "1373902876553048065  ['nice', 'backs', 'astrazenecas', 'calquence',...   \n",
       "1373656782367813635  ['acalabrutinib', 'valuable', 'option', 'pts',...   \n",
       "1372941634334232586  ['nice', 'recommended', 'use', 'acalabrutinib'...   \n",
       "1372927482278539265  ['nice', 'backs', 'astrazenecas', 'calquence',...   \n",
       "1372911723305394179  ['england', 'decisions', 'usually', 'come', 'w...   \n",
       "1372888121159868423  ['astrazenecas', 'calquence', 'acalabrutinib',...   \n",
       "1372866915081797632  ['superstar', 'tobyeyre', 'responding', 'excel...   \n",
       "1372825553837944834  ['cll', 'patients', 'know', 'drug', 'ibrutinib...   \n",
       "\n",
       "                     Polarity  overall_Polarity  \n",
       "1374140386071961602  0.000000          0.000000  \n",
       "1374032432173842437  0.000000          0.000000  \n",
       "1373902876553048065  0.600000          0.600000  \n",
       "1373656782367813635  0.100000          0.100000  \n",
       "1372941634334232586  0.600000          0.600000  \n",
       "1372927482278539265  0.600000          0.600000  \n",
       "1372911723305394179 -0.250000         -0.250000  \n",
       "1372888121159868423  0.000000          0.000000  \n",
       "1372866915081797632  0.800000          0.800000  \n",
       "1372825553837944834  0.045455          0.045455  "
      ]
     },
     "execution_count": 115,
     "metadata": {},
     "output_type": "execute_result"
    }
   ],
   "source": [
    "df.head(10)\n"
   ]
  }
 ],
 "metadata": {
  "kernelspec": {
   "display_name": "Python 3",
   "language": "python",
   "name": "python3"
  },
  "language_info": {
   "codemirror_mode": {
    "name": "ipython",
    "version": 3
   },
   "file_extension": ".py",
   "mimetype": "text/x-python",
   "name": "python",
   "nbconvert_exporter": "python",
   "pygments_lexer": "ipython3",
   "version": "3.8.8"
  }
 },
 "nbformat": 4,
 "nbformat_minor": 5
}
